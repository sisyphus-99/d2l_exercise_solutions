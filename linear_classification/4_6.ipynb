{
 "cells": [
  {
   "cell_type": "markdown",
   "metadata": {},
   "source": [
    "1. If we wish to estimate the error of a fixed model $f$ to within $0.0001$ with probability greater than 99.9%, how many samples do we need?"
   ]
  },
  {
   "cell_type": "markdown",
   "metadata": {},
   "source": [
    "Using Hoeffding's inequality:\n",
    "\n",
    "$$P(\\epsilon_\\mathcal{D}(f) - \\epsilon(f) \\geq t) < \\exp\\left( - 2n t^2 \\right) < 0.001$$\n",
    "\n",
    "When $t = 0.0001$, $n \\geq 3.45 * 10^8$"
   ]
  },
  {
   "cell_type": "markdown",
   "metadata": {},
   "source": [
    "2. Suppose that somebody else possesses a labeled test set $\\mathcal{D}$ and only makes available the unlabeled inputs (features). Now suppose that you can only access the test set labels by running a model $f$ (with no restrictions placed on the model class) on each of the unlabeled inputs and receiving the corresponding error $\\epsilon_\\mathcal{D}(f)$.,How many models would you need to evaluate before you leak the entire test setand thus could appear to have error $0$, regardless of your true error?"
   ]
  },
  {
   "cell_type": "markdown",
   "metadata": {},
   "source": [
    "By repeatedly evaluating a model on the test set and using the test set errors to adjust the model, we are like training the model on the test set and obtaining misleadingly optimistic results. But is there a specific number as answer of this question ???"
   ]
  },
  {
   "cell_type": "markdown",
   "metadata": {},
   "source": [
    "3. What is the VC dimension of the class of fifth-order polynomials?"
   ]
  },
  {
   "cell_type": "markdown",
   "metadata": {},
   "source": [
    "For linear models, the VC dimension is d + 1 = 6"
   ]
  },
  {
   "cell_type": "markdown",
   "metadata": {},
   "source": [
    "4. What is the VC dimension of axis-aligned rectangles on two-dimensional data?"
   ]
  },
  {
   "cell_type": "markdown",
   "metadata": {},
   "source": [
    "https://www.cs.cornell.edu/courses/cs683/2008sp/lecture%20notes/683notes_0428.pdf\n",
    "\n",
    "The VC dimension is 4.\n",
    "\n",
    "(1) There exist 4 points that can be shattered.\n",
    "\n",
    "It’s clear that capturing just 1 point and all 4 points are both trivial. The figure below shows how we can capture 2 points and 3 points.\n",
    "\n",
    "![4_6_1](4_6_1.png)\n",
    "\n",
    "(2) No set of 5 points can be shattered.\n",
    "\n",
    "Suppose we have 5 points. A shattering must allow us to select all 5 points and allow us to select 4 points without the 5th.\n",
    "\n",
    "![4_6_2](4_6_2.png)\n",
    "\n",
    "Our minimum enclosing rectangle that allows us to select all five points is defined by only four points – one for each edge. So, it is clear that the fifth point must lie either on an edge or on the inside of the rectangle. This prevents us from selecting four points without the fifth.\n",
    "\n",
    "\n"
   ]
  }
 ],
 "metadata": {
  "language_info": {
   "name": "python"
  }
 },
 "nbformat": 4,
 "nbformat_minor": 2
}
