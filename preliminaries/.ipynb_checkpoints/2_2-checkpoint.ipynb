{
 "cells": [
  {
   "cell_type": "markdown",
   "id": "b529dc95-b7f1-4a27-a121-7b319f15fa76",
   "metadata": {},
   "source": [
    "1. **Try loading datasets, e.g., Abalone from the [UCI Machine Learning Repository](https://archive.ics.uci.edu/ml/datasets.php) and inspect their properties. What fraction of them has missing values? What fraction of the variables is numerical, categorical, or text?**"
   ]
  },
  {
   "cell_type": "code",
   "execution_count": 2,
   "id": "842fb9b7-40eb-4d2b-b38a-aa0ed14275f6",
   "metadata": {},
   "outputs": [
    {
     "name": "stdout",
     "output_type": "stream",
     "text": [
      "Collecting ucimlrepo\n",
      "  Downloading ucimlrepo-0.0.6-py3-none-any.whl.metadata (5.3 kB)\n",
      "Downloading ucimlrepo-0.0.6-py3-none-any.whl (8.0 kB)\n",
      "Installing collected packages: ucimlrepo\n",
      "Successfully installed ucimlrepo-0.0.6\n"
     ]
    }
   ],
   "source": [
    "!pip install ucimlrepo"
   ]
  },
  {
   "cell_type": "code",
   "execution_count": 8,
   "id": "208bd705-bb0d-46e8-900c-ed64b6cd7f30",
   "metadata": {},
   "outputs": [],
   "source": [
    "from ucimlrepo import fetch_ucirepo \n",
    "  \n",
    "# fetch dataset \n",
    "abalone = fetch_ucirepo(id=1) \n",
    "  \n",
    "# data (as pandas dataframes) \n",
    "X = abalone.data.features \n",
    "y = abalone.data.targets "
   ]
  },
  {
   "cell_type": "code",
   "execution_count": 18,
   "id": "eba46961-6df6-4f1b-9c28-2ff9381ccb4d",
   "metadata": {},
   "outputs": [
    {
     "data": {
      "text/plain": [
       "Sex               False\n",
       "Length            False\n",
       "Diameter          False\n",
       "Height            False\n",
       "Whole_weight      False\n",
       "Shucked_weight    False\n",
       "Viscera_weight    False\n",
       "Shell_weight      False\n",
       "dtype: bool"
      ]
     },
     "execution_count": 18,
     "metadata": {},
     "output_type": "execute_result"
    }
   ],
   "source": [
    "X.isnull().any() # check if the columns have missing values"
   ]
  },
  {
   "cell_type": "markdown",
   "id": "09e6d2cc-9396-4acb-9f65-f9eb96516e6c",
   "metadata": {},
   "source": [
    "NO column has missing value."
   ]
  },
  {
   "cell_type": "code",
   "execution_count": 19,
   "id": "410e8dc6-2347-4d0c-9bb1-7406bf811e59",
   "metadata": {},
   "outputs": [
    {
     "data": {
      "text/plain": [
       "Sex                object\n",
       "Length            float64\n",
       "Diameter          float64\n",
       "Height            float64\n",
       "Whole_weight      float64\n",
       "Shucked_weight    float64\n",
       "Viscera_weight    float64\n",
       "Shell_weight      float64\n",
       "dtype: object"
      ]
     },
     "execution_count": 19,
     "metadata": {},
     "output_type": "execute_result"
    }
   ],
   "source": [
    "X.dtypes # get the type of each column"
   ]
  },
  {
   "cell_type": "code",
   "execution_count": 20,
   "id": "174e6f33-b343-42cd-8761-75fda1528841",
   "metadata": {},
   "outputs": [
    {
     "data": {
      "text/html": [
       "<div>\n",
       "<style scoped>\n",
       "    .dataframe tbody tr th:only-of-type {\n",
       "        vertical-align: middle;\n",
       "    }\n",
       "\n",
       "    .dataframe tbody tr th {\n",
       "        vertical-align: top;\n",
       "    }\n",
       "\n",
       "    .dataframe thead th {\n",
       "        text-align: right;\n",
       "    }\n",
       "</style>\n",
       "<table border=\"1\" class=\"dataframe\">\n",
       "  <thead>\n",
       "    <tr style=\"text-align: right;\">\n",
       "      <th></th>\n",
       "      <th>Sex</th>\n",
       "      <th>Length</th>\n",
       "      <th>Diameter</th>\n",
       "      <th>Height</th>\n",
       "      <th>Whole_weight</th>\n",
       "      <th>Shucked_weight</th>\n",
       "      <th>Viscera_weight</th>\n",
       "      <th>Shell_weight</th>\n",
       "    </tr>\n",
       "  </thead>\n",
       "  <tbody>\n",
       "    <tr>\n",
       "      <th>1</th>\n",
       "      <td>M</td>\n",
       "      <td>0.35</td>\n",
       "      <td>0.265</td>\n",
       "      <td>0.090</td>\n",
       "      <td>0.2255</td>\n",
       "      <td>0.0995</td>\n",
       "      <td>0.0485</td>\n",
       "      <td>0.07</td>\n",
       "    </tr>\n",
       "    <tr>\n",
       "      <th>2</th>\n",
       "      <td>F</td>\n",
       "      <td>0.53</td>\n",
       "      <td>0.420</td>\n",
       "      <td>0.135</td>\n",
       "      <td>0.6770</td>\n",
       "      <td>0.2565</td>\n",
       "      <td>0.1415</td>\n",
       "      <td>0.21</td>\n",
       "    </tr>\n",
       "  </tbody>\n",
       "</table>\n",
       "</div>"
      ],
      "text/plain": [
       "  Sex  Length  Diameter  Height  Whole_weight  Shucked_weight  Viscera_weight  \\\n",
       "1   M    0.35     0.265   0.090        0.2255          0.0995          0.0485   \n",
       "2   F    0.53     0.420   0.135        0.6770          0.2565          0.1415   \n",
       "\n",
       "   Shell_weight  \n",
       "1          0.07  \n",
       "2          0.21  "
      ]
     },
     "execution_count": 20,
     "metadata": {},
     "output_type": "execute_result"
    }
   ],
   "source": [
    "X.iloc[1:3]"
   ]
  },
  {
   "cell_type": "markdown",
   "id": "427b7841-05b4-459a-9369-0ebedd714635",
   "metadata": {},
   "source": [
    "The type of `Sex` is defined in the dataset as M or F. The types of other properties are float. "
   ]
  },
  {
   "cell_type": "markdown",
   "id": "7edfa9b4-78d8-41e9-8d98-60f11cf812a1",
   "metadata": {},
   "source": [
    "2. **Try indexing and selecting data columns by name rather than by column number. The pandas documentation on [indexing](https://pandas.pydata.org/pandas-docs/stable/user_guide/indexing.html) has further details on how to do this.**"
   ]
  },
  {
   "cell_type": "code",
   "execution_count": 17,
   "id": "693093ba-bdb9-415c-9926-eec7d101f0bd",
   "metadata": {},
   "outputs": [
    {
     "data": {
      "text/plain": [
       "0.815"
      ]
     },
     "execution_count": 17,
     "metadata": {},
     "output_type": "execute_result"
    }
   ],
   "source": [
    "X['Length'].max()"
   ]
  },
  {
   "cell_type": "markdown",
   "id": "24265d6f-6743-4862-85e2-d399496af6bb",
   "metadata": {},
   "source": [
    "3. **How large a dataset do you think you could load this way? What might be the limitations? Hint: consider the time to read the data, representation, processing, and memory footprint. Try this out on your laptop. What happens if you try it out on a server?** "
   ]
  },
  {
   "cell_type": "markdown",
   "id": "739dc23e-85e7-41de-a822-912a8fd8a593",
   "metadata": {},
   "source": [
    "<font color=red>(uncertain)</font>\n",
    "\n",
    "The size of the dataset we could load is basically limited by RAM size. For my computer, RAM is 32G. This doesn't mean the size of dataset I can read. The way to represent it and process it also affect the usage of RAM. I tried to load 1GB image data by python and it cost RAM. \n",
    "\n",
    "Server memory uses more advanced technology. Because it usually has to run continuously for a very long time, it needs to be stable and have error correction capabilities. What differents of "
   ]
  },
  {
   "cell_type": "markdown",
   "id": "24293575-6b39-4763-851e-73f2fce0ac79",
   "metadata": {},
   "source": [
    "4. **How would you deal with data that has a very large number of categories? What if the category labels are all unique? Should you include the latter?**"
   ]
  },
  {
   "cell_type": "markdown",
   "id": "b1f4e52a-db40-4192-8219-8feea187e7c1",
   "metadata": {},
   "source": [
    "<font color=green>(from the dicussion)</font>\n",
    "\n",
    "Too much uniqueness of categorical values indicate that the amount of information that the feature carries is poor. We may safely exclude a feature if all its values are unique. Manual or automatic concatenation of categories might be required."
   ]
  },
  {
   "cell_type": "markdown",
   "id": "fbcc31f4-8353-4539-9e0e-68648baf79c5",
   "metadata": {},
   "source": [
    "5. **What alternatives to pandas can you think of? How about [loading NumPy tensors from a file](https://numpy.org/doc/stable/reference/generated/numpy.load.html)? Check out [Pillow](https://python-pillow.org/), the Python Imaging Library.**"
   ]
  },
  {
   "cell_type": "code",
   "execution_count": 4,
   "id": "7c4f3c58-273d-45aa-9f71-570a4efd7bfd",
   "metadata": {},
   "outputs": [
    {
     "data": {
      "text/plain": [
       "array([[0., 0., 0.],\n",
       "       [0., 0., 0.],\n",
       "       [0., 0., 0.]])"
      ]
     },
     "execution_count": 4,
     "metadata": {},
     "output_type": "execute_result"
    }
   ],
   "source": [
    "# Load numpy tensors from a file\n",
    "import numpy as np\n",
    "a = np.zeros((3,3))\n",
    "np.save('material/a.npy', a)\n",
    "b = np.load('material/a.npy')\n",
    "b"
   ]
  },
  {
   "cell_type": "code",
   "execution_count": 5,
   "id": "1342d491-edbe-4cef-abf5-3037e13d4769",
   "metadata": {},
   "outputs": [],
   "source": [
    "# Load image by Pillow\n",
    "from PIL import Image\n",
    "img = Image.open(\"material/cat.png\")\n",
    "img.show()"
   ]
  },
  {
   "cell_type": "code",
   "execution_count": null,
   "id": "6c3392be-26eb-4301-89f8-a61fed37e8e2",
   "metadata": {},
   "outputs": [],
   "source": []
  }
 ],
 "metadata": {
  "kernelspec": {
   "display_name": "Python 3 (ipykernel)",
   "language": "python",
   "name": "python3"
  },
  "language_info": {
   "codemirror_mode": {
    "name": "ipython",
    "version": 3
   },
   "file_extension": ".py",
   "mimetype": "text/x-python",
   "name": "python",
   "nbconvert_exporter": "python",
   "pygments_lexer": "ipython3",
   "version": "3.9.19"
  }
 },
 "nbformat": 4,
 "nbformat_minor": 5
}
