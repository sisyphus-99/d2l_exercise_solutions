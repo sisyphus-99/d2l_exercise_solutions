{
 "cells": [
  {
   "cell_type": "markdown",
   "id": "7ac92a86-bfef-4487-b323-46bbe50b22f9",
   "metadata": {},
   "source": [
    "1. **So far we took the rules for derivatives for granted. \n",
    "   Using the definition and limits prove the properties \n",
    "   for (i) $f(x) = c$, (ii) $f(x) = x^n$, (iii) $f(x) = e^x$ and (iv) $f(x) = \\log x$.**"
   ]
  },
  {
   "cell_type": "markdown",
   "id": "097a92ea-d24b-41e4-8dbb-19904890166b",
   "metadata": {},
   "source": [
    "(i)\n",
    "$$f'(x)=lim_{d \\to 0} \\frac{f(x+d)-f(x)}{d}=lim_{d \\to 0}\\frac{0}{d}=0$$\n",
    "(ii)\n",
    "$$f'(x)=lim_{d \\to 0} \\frac{(x+d)^n-x^n}{d}=lim_{d \\to 0}\\frac{C_n^1 x^{n-1}d + C_n^2 x^{n-2} d^2 + ...}{d}=nx^{n-1} + lim_{d \\to 0}  C_n^2 x^{n-2} d + ...= nx^{n-1}$$\n",
    "(iii)\n",
    "$$f'(x)=lim_{d \\to 0} \\frac{e^{x+d}-e^x}{d}=lim_{d \\to 0}\\frac{e^x(e^d-1)}{d}=e^x$$\n",
    "(iv)\n",
    "https://www.cuemath.com/calculus/derivative-of-log-x/"
   ]
  },
  {
   "cell_type": "markdown",
   "id": "efe769e7-2a37-4d63-9f60-577532b9769f",
   "metadata": {},
   "source": [
    "2. **In the same vein, prove the product, sum, and quotient rule from first principles.**"
   ]
  },
  {
   "cell_type": "markdown",
   "id": "865e9353-adaa-408c-8e8a-39c177062362",
   "metadata": {},
   "source": [
    "$$(f(x)+g(x))'=lim_{d \\to 0} \\frac{f(x+d)+g(x+d)-f(x)-g(x)}{d}=lim_{d \\to 0}(\\frac{f(x+d)-f(x)}{d}+\\frac{g(x+d)-g(x)}{d})$$\n",
    "\n",
    "If f'(x) and g'(x) exist, then $(f(x)+g(x))'=f'(x)+g'(x)$\n",
    "\n",
    "product and quotient rule: https://math.clarku.edu/~djoyce/ma120/derivatives2.pdf"
   ]
  },
  {
   "cell_type": "markdown",
   "id": "ceb217df-1349-40c0-8280-3711f4f27ea7",
   "metadata": {},
   "source": [
    "3. **Prove that the constant multiple rule follows as a special case of the product rule.**"
   ]
  },
  {
   "cell_type": "markdown",
   "id": "80486289-005c-4e23-9bb7-eb6679699d87",
   "metadata": {},
   "source": [
    "Suppose $f(x) = C$:\n",
    "$$(Cg(x))'=(f(x)g(x))' = f'(x)g(x) + f(x)g'(x) = Cg'(x)$$"
   ]
  },
  {
   "cell_type": "markdown",
   "id": "ee029e25-6dfc-4ef5-8a18-b9e5bfb927c5",
   "metadata": {},
   "source": [
    "4. **Calculate the derivative of $f(x) = x^x$**"
   ]
  },
  {
   "cell_type": "markdown",
   "id": "60913515-ec6a-41b1-b4ae-a51565d7c536",
   "metadata": {},
   "source": [
    "$$(x^x)'=(e^{xlnx})'=e^{xlnx} (xlnx)'=x^x (1 + lnx)$$"
   ]
  },
  {
   "cell_type": "markdown",
   "id": "706c257b-dc27-4c10-8d68-e5b1f695af6f",
   "metadata": {},
   "source": [
    "5. **What does it mean that $f'(x) = 0$ for some $x$? Give an example of a function $f$ and a location $x$ for which this might hold.**"
   ]
  },
  {
   "cell_type": "markdown",
   "id": "ed7b9a29-f2a7-4403-b678-bd7cc7a723b2",
   "metadata": {},
   "source": [
    "At these points the function is neither increasing nor decreasing. Graphically, this corresponds to points on the graph of f(x) where the tangent to the curve is a horizontal line. \n",
    "\n",
    "example: $f(x) =x^2, x=0$ "
   ]
  },
  {
   "cell_type": "markdown",
   "id": "b8a6d77f-382f-4cdf-85f3-525ddd5bd7af",
   "metadata": {},
   "source": [
    "6. **Plot the function $y = f(x) = x^3 - \\frac{1}{x}$ and plot its tangent line at $x = 1$.**"
   ]
  },
  {
   "cell_type": "code",
   "execution_count": 4,
   "id": "98881c88-2bd1-48a0-ac6f-e9b44d63825e",
   "metadata": {},
   "outputs": [
    {
     "data": {
      "image/png": "[encoded data removed]",
      "text/plain": [
       "<Figure size 640x480 with 1 Axes>"
      ]
     },
     "metadata": {},
     "output_type": "display_data"
    }
   ],
   "source": [
    "import numpy as np\n",
    "import matplotlib.pyplot as plt\n",
    "\n",
    "def f(x):\n",
    "    return x * x * x - 1 / x\n",
    "\n",
    "def df(x):\n",
    "    return 3 * x * x + 1 / x / x\n",
    "    \n",
    "x = np.linspace(0.1, 3.0, num=100)\n",
    "y = f(x)\n",
    "k = df(1)\n",
    "\n",
    "def getY(x):\n",
    "    return k * (x - 1) + f(1)\n",
    "\n",
    "x1 = 0\n",
    "y1 = getY(x1)\n",
    "x2 = 3\n",
    "y2 = getY(x2)\n",
    "\n",
    "plt.plot(x,y)\n",
    "plt.plot((x1,x2),(y1,y2))\n",
    "plt.show()\n"
   ]
  },
  {
   "cell_type": "markdown",
   "id": "e20c676a-a06e-4e6d-9b6c-d081cc431e3f",
   "metadata": {},
   "source": [
    "7. **Find the gradient of the function $f(\\mathbf{x}) = 3x_1^2 + 5e^{x_2}$.**"
   ]
  },
  {
   "cell_type": "markdown",
   "id": "5363ec3f-e937-43fd-af88-2e04dc9a9a4a",
   "metadata": {},
   "source": [
    "$$\\bigtriangledown f(X) = (6x_1, 5e^{x_2})$$"
   ]
  },
  {
   "cell_type": "markdown",
   "id": "833f7a07-9c47-4c8a-a4ab-7b02b20e8424",
   "metadata": {},
   "source": [
    "8. **What is the gradient of the function $f(\\mathbf{x}) = \\|\\mathbf{x}\\|_2$? What happens for $\\mathbf{x} = \\mathbf{0}$?**"
   ]
  },
  {
   "cell_type": "markdown",
   "id": "ed6bc78c-4228-40d9-a406-c7e48920fcc8",
   "metadata": {},
   "source": [
    "<font color = red>(uncertain)</font>\n",
    "\n",
    "$$f(X) = (x_1^2+x_2^2+...+x_n^2)^(1/2)$$\n",
    "$$\\bigtriangledown f(X) = \\frac{1}{||X||}(x_1,x_2,...)=\\frac{X}{||X||}$$\n",
    "\n",
    "for x = 0, the gradient is not defined?"
   ]
  },
  {
   "cell_type": "markdown",
   "id": "41307e06-3d89-464c-b5d6-2a5c3fde7dcb",
   "metadata": {},
   "source": [
    "9. **Can you write out the chain rule for the case where $u = f(x, y, z)$ and $x = x(a, b)$, $y = y(a, b)$, and $z = z(a, b)$?**"
   ]
  },
  {
   "cell_type": "markdown",
   "id": "4a8606c1-7d44-4b68-8864-1846f4eed6c3",
   "metadata": {},
   "source": [
    "$$\\frac{\\partial f}{\\partial a}= \\frac{\\partial f}{\\partial x}\\frac{\\partial x}{\\partial a}+ \\frac{\\partial f}{\\partial y}\\frac{\\partial y}{\\partial a}+\\frac{\\partial f}{\\partial z}\\frac{\\partial z}{\\partial a}$$\n",
    "$$\\frac{\\partial f}{\\partial b}= \\frac{\\partial f}{\\partial x}\\frac{\\partial x}{\\partial b}+ \\frac{\\partial f}{\\partial y}\\frac{\\partial y}{\\partial b}+\\frac{\\partial f}{\\partial z}\\frac{\\partial z}{\\partial b}$$"
   ]
  },
  {
   "cell_type": "markdown",
   "id": "f6922059-570f-4d3d-9574-ac54193c07bd",
   "metadata": {},
   "source": [
    "10. **Given a function $f(x)$ that is invertible, compute the derivative of its inverse $f^{-1}(x)$. Here we have that $f^{-1}(f(x)) = x$ and conversely $f(f^{-1}(y)) = y$. Hint: use these properties in your derivation.**"
   ]
  },
  {
   "cell_type": "markdown",
   "id": "a4a6712e-67a3-4819-9327-6c68affceba5",
   "metadata": {},
   "source": [
    "https://www.sfu.ca/math-coursenotes/Math%20157%20Course%20Notes/sec_DerivativesofInverse.html"
   ]
  }
 ],
 "metadata": {
  "kernelspec": {
   "display_name": "Python 3 (ipykernel)",
   "language": "python",
   "name": "python3"
  },
  "language_info": {
   "codemirror_mode": {
    "name": "ipython",
    "version": 3
   },
   "file_extension": ".py",
   "mimetype": "text/x-python",
   "name": "python",
   "nbconvert_exporter": "python",
   "pygments_lexer": "ipython3",
   "version": "3.9.19"
  }
 },
 "nbformat": 4,
 "nbformat_minor": 5
}
