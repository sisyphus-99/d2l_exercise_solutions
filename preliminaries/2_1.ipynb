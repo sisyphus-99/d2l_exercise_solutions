{
 "cells": [
  {
   "cell_type": "markdown",
   "id": "a7dd1086-3fd9-464a-bfe3-b6e6aa9f55a0",
   "metadata": {},
   "source": [
    "1. **Run the code in this section. Change the conditional statement `X == Y` to `X < Y` or `X > Y`, and then see what kind of tensor you can get.**"
   ]
  },
  {
   "cell_type": "code",
   "execution_count": 1,
   "id": "01b4ed3a-6670-4fac-b0ab-dd749d1645ba",
   "metadata": {},
   "outputs": [],
   "source": [
    "import torch\n",
    "X = torch.arange(12, dtype=torch.float32).reshape((3,4))\n",
    "Y = torch.tensor([[2.0, 1, 4, 3], [1, 2, 3, 4], [4, 3, 2, 1]])"
   ]
  },
  {
   "cell_type": "code",
   "execution_count": 3,
   "id": "29f8ebfe-3929-4370-a3a7-a6b4d42f7d85",
   "metadata": {},
   "outputs": [
    {
     "data": {
      "text/plain": [
       "tensor([[ True, False,  True, False],\n",
       "        [False, False, False, False],\n",
       "        [False, False, False, False]])"
      ]
     },
     "execution_count": 3,
     "metadata": {},
     "output_type": "execute_result"
    }
   ],
   "source": [
    "X < Y"
   ]
  },
  {
   "cell_type": "markdown",
   "id": "443f2512-4fb8-43ed-8cd9-6ac3078598ce",
   "metadata": {},
   "source": [
    "2. **Replace the two tensors that operate by element in the broadcasting mechanism with other shapes, e.g., 3-dimensional tensors. Is the result the same as expected?**"
   ]
  },
  {
   "cell_type": "code",
   "execution_count": 5,
   "id": "9842f0f8-6c89-49ea-8b34-98f74e37a435",
   "metadata": {},
   "outputs": [
    {
     "data": {
      "text/plain": [
       "tensor([[[ 0,  2,  4,  6],\n",
       "         [ 4,  6,  8, 10]],\n",
       "\n",
       "        [[ 4,  6,  8, 10],\n",
       "         [ 8, 10, 12, 14]]])"
      ]
     },
     "execution_count": 5,
     "metadata": {},
     "output_type": "execute_result"
    }
   ],
   "source": [
    "a = torch.arange(8).reshape((2, 1, 4))\n",
    "b = torch.arange(8).reshape((1, 2, 4))\n",
    "a + b"
   ]
  },
  {
   "cell_type": "markdown",
   "id": "4595ddd3-99af-468e-aa94-bff3334b696f",
   "metadata": {},
   "source": [
    "The rules for broadcasing:\n",
    "- The dimensions of the two arrays are the same when compared from back to front. e.g. (2,3,4) and (3, 4)\n",
    "- When two tensors have unequal number in some dimensions, the size of the unequal dimension of one tensor is 1.  e.g. (2, 1, 4) and (1, 2, 4)"
   ]
  }
 ],
 "metadata": {
  "kernelspec": {
   "display_name": "Python 3 (ipykernel)",
   "language": "python",
   "name": "python3"
  },
  "language_info": {
   "codemirror_mode": {
    "name": "ipython",
    "version": 3
   },
   "file_extension": ".py",
   "mimetype": "text/x-python",
   "name": "python",
   "nbconvert_exporter": "python",
   "pygments_lexer": "ipython3",
   "version": "3.9.19"
  }
 },
 "nbformat": 4,
 "nbformat_minor": 5
}
