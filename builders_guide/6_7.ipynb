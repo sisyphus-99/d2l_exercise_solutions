{
 "cells": [
  {
   "cell_type": "code",
   "execution_count": 1,
   "metadata": {},
   "outputs": [],
   "source": [
    "import torch\n",
    "from torch import nn\n",
    "from d2l import torch as d2l\n",
    "import time"
   ]
  },
  {
   "cell_type": "code",
   "execution_count": 2,
   "metadata": {},
   "outputs": [
    {
     "data": {
      "text/plain": [
       "True"
      ]
     },
     "execution_count": 2,
     "metadata": {},
     "output_type": "execute_result"
    }
   ],
   "source": [
    "torch.cuda.is_available()"
   ]
  },
  {
   "cell_type": "markdown",
   "metadata": {},
   "source": [
    "1. Try a larger computation task, such as the multiplication of large matrices, and see the difference in speed between the CPU and GPU. What about a task with a small number of calculations?"
   ]
  },
  {
   "cell_type": "code",
   "execution_count": 16,
   "metadata": {},
   "outputs": [],
   "source": [
    "def matMul(dimension, device, n):\n",
    "    X = torch.randn(dimension, dimension, device=device)\n",
    "    Y = torch.randn(dimension, dimension, device=device)\n",
    "    time1 = time.time()\n",
    "    for i in range(n):\n",
    "        Z = torch.matmul(X, Y)\n",
    "    time2 = time.time()\n",
    "    return time2-time1"
   ]
  },
  {
   "cell_type": "code",
   "execution_count": 18,
   "metadata": {},
   "outputs": [
    {
     "name": "stdout",
     "output_type": "stream",
     "text": [
      "cpu 10000x10000  1.7620086669921875\n",
      "gpu 10000x10000  0.0\n",
      "cpu 100x100  0.001995086669921875\n",
      "gpu 100x100  0.010004758834838867\n"
     ]
    }
   ],
   "source": [
    "print(\"cpu 10000x10000 \", matMul(5000, 'cpu', 5))\n",
    "print(\"gpu 10000x10000 \", matMul(5000, 'cuda', 5))\n",
    "print(\"cpu 100x100 \", matMul(500, 'cpu', 5))\n",
    "print(\"gpu 100x100 \", matMul(500, 'cuda', 5))"
   ]
  },
  {
   "cell_type": "markdown",
   "metadata": {},
   "source": [
    "When doing a larger computation task, using GPU is much faster than CPU. When doing a small number of calculations,the two methods take similar time."
   ]
  },
  {
   "cell_type": "markdown",
   "metadata": {},
   "source": [
    "2. How should we read and write model parameters on the GPU?"
   ]
  },
  {
   "cell_type": "code",
   "execution_count": null,
   "metadata": {},
   "outputs": [],
   "source": [
    "PATH = \"model.pt\"\n",
    "\n",
    "model = d2l.LinearRegression()\n",
    "\n",
    "# Save\n",
    "torch.save(model.state_dict(), PATH)\n",
    "\n",
    "# Load\n",
    "device = torch.device(\"cuda\")\n",
    "model = d2l.LinearRegression()\n",
    "model.load_state_dict(torch.load(PATH))\n",
    "model.to(device)"
   ]
  },
  {
   "cell_type": "markdown",
   "metadata": {},
   "source": [
    "3. Measure the time it takes to compute 1000 matrix-matrix multiplications of 100 × 100 matrices and log the Frobenius norm of the output matrix one result at a time vs. keeping a log on the GPU and transferring only the final result."
   ]
  },
  {
   "cell_type": "code",
   "execution_count": 40,
   "metadata": {},
   "outputs": [
    {
     "name": "stdout",
     "output_type": "stream",
     "text": [
      "0.362776517868042\n"
     ]
    }
   ],
   "source": [
    "A = torch.randn(100, 100, device='cuda')\n",
    "B = torch.randn(100, 100, device='cuda')\n",
    "time1 = time.time()\n",
    "logs = torch.tensor((1,1), device='cpu')\n",
    "for i in range(3000):\n",
    "    result = torch.matmul(A, B).norm()\n",
    "    torch.cat((logs, result.reshape(1).to('cpu')))\n",
    "\n",
    "time2 = time.time()\n",
    "print(time2-time1)"
   ]
  },
  {
   "cell_type": "code",
   "execution_count": 41,
   "metadata": {},
   "outputs": [
    {
     "name": "stdout",
     "output_type": "stream",
     "text": [
      "0.14913058280944824\n"
     ]
    }
   ],
   "source": [
    "A = torch.randn(100, 100, device='cuda')\n",
    "B = torch.randn(100, 100, device='cuda')\n",
    "time1 = time.time()\n",
    "logs = torch.tensor((1,1), device='cuda')\n",
    "for i in range(3000):\n",
    "    result = torch.matmul(A, B).norm()\n",
    "    torch.cat((logs, result.reshape(1)))\n",
    "logs.to('cpu')\n",
    "\n",
    "time2 = time.time()\n",
    "print(time2-time1)"
   ]
  },
  {
   "cell_type": "markdown",
   "metadata": {},
   "source": [
    "The latter one is faster."
   ]
  }
 ],
 "metadata": {
  "kernelspec": {
   "display_name": "d2l",
   "language": "python",
   "name": "python3"
  },
  "language_info": {
   "codemirror_mode": {
    "name": "ipython",
    "version": 3
   },
   "file_extension": ".py",
   "mimetype": "text/x-python",
   "name": "python",
   "nbconvert_exporter": "python",
   "pygments_lexer": "ipython3",
   "version": "3.9.19"
  }
 },
 "nbformat": 4,
 "nbformat_minor": 2
}
