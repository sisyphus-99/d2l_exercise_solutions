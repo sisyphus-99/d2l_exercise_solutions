{
 "cells": [
  {
   "cell_type": "code",
   "execution_count": 2,
   "metadata": {},
   "outputs": [],
   "source": [
    "import torch\n",
    "from torch import nn\n",
    "from torch.nn import functional as F\n",
    "from d2l import torch as d2l"
   ]
  },
  {
   "cell_type": "markdown",
   "metadata": {},
   "source": [
    "1. Design a layer that takes an input and computes a tensor reduction, i.e., it returns $y = \\sum_{i,j} W_{i,j} x_i x_j$"
   ]
  },
  {
   "cell_type": "code",
   "execution_count": 4,
   "metadata": {},
   "outputs": [
    {
     "data": {
      "text/plain": [
       "tensor([2.3361, 1.9537])"
      ]
     },
     "execution_count": 4,
     "metadata": {},
     "output_type": "execute_result"
    }
   ],
   "source": [
    "class myLayer(nn.Module):\n",
    "    def __init__(self, num_in):\n",
    "        super().__init__()\n",
    "        self.weight = nn.Parameter(torch.randn(num_in, num_in))\n",
    "    \n",
    "    def forward(self, X):\n",
    "        out = []\n",
    "        samples = torch.chunk(X,X.shape[0],dim=0)\n",
    "        for sample in samples:\n",
    "            sample = torch.matmul(sample.T, sample)\n",
    "            y = (self.weight * sample).sum()\n",
    "            out.append(y)\n",
    "        return torch.tensor(out)\n",
    "\n",
    "layer = myLayer(5)\n",
    "x = torch.randn(2,5)\n",
    "layer(x)"
   ]
  },
  {
   "cell_type": "markdown",
   "metadata": {},
   "source": [
    "2. Design a layer that returns the leading half of the Fourier coefficients of the data."
   ]
  },
  {
   "cell_type": "code",
   "execution_count": 6,
   "metadata": {},
   "outputs": [
    {
     "name": "stdout",
     "output_type": "stream",
     "text": [
      "Input shape: torch.Size([1, 10, 10])\n",
      "Output shape: torch.Size([1, 10, 5])\n"
     ]
    }
   ],
   "source": [
    "class FourierCoefficientsLayer(nn.Module):\n",
    "    def __init__(self, num_coefficients):\n",
    "        super().__init__()\n",
    "        self.num_coefficients = num_coefficients\n",
    "    \n",
    "    def forward(self, x):\n",
    "        fourier_transform = torch.fft.fft(x)\n",
    "        leading_coefficients = fourier_transform[..., :self.num_coefficients]        \n",
    "        return leading_coefficients\n",
    "\n",
    "num_coefficients = 5\n",
    "fourier_layer = FourierCoefficientsLayer(num_coefficients)\n",
    "input_data = torch.randn(1, 10, 10)\n",
    "output = fourier_layer(input_data)\n",
    "\n",
    "print(\"Input shape:\", input_data.shape)\n",
    "print(\"Output shape:\", output.shape)\n"
   ]
  }
 ],
 "metadata": {
  "kernelspec": {
   "display_name": "d2l",
   "language": "python",
   "name": "python3"
  },
  "language_info": {
   "codemirror_mode": {
    "name": "ipython",
    "version": 3
   },
   "file_extension": ".py",
   "mimetype": "text/x-python",
   "name": "python",
   "nbconvert_exporter": "python",
   "pygments_lexer": "ipython3",
   "version": "3.9.19"
  }
 },
 "nbformat": 4,
 "nbformat_minor": 2
}
