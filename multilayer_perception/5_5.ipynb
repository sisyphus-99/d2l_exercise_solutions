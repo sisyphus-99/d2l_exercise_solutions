{
 "cells": [
  {
   "cell_type": "markdown",
   "metadata": {},
   "source": [
    "1. In what sense do traditional complexity-based measures fail to account for generalization of deep neural networks?"
   ]
  },
  {
   "cell_type": "markdown",
   "metadata": {},
   "source": [
    "Traditional complexity-based measures are model size, number of layers, number of parameters and etc. \n",
    "\n",
    "Traditional complexity measures tend to focus on the risk of overfitting, which occurs when a model becomes too complex and fits the noise in the training data. While controlling model complexity is important to prevent overfitting, it’s not the sole determinant of good generalization. A model can be very complex and still generalize well if its complexity aligns with the patterns in the data."
   ]
  },
  {
   "cell_type": "markdown",
   "metadata": {},
   "source": [
    "2. Why might early stopping be considered a regularization technique?"
   ]
  },
  {
   "cell_type": "markdown",
   "metadata": {},
   "source": [
    "Regularization techniques often involve controlling the complexity of the model to prevent it from fitting the noise in the training data too closely. Early stopping achieves a similar goal by monitoring the model’s performance on a validation set and stopping training when the performance starts to degrade. This helps prevent the model from overfitting the training data by limiting the number of training iterations."
   ]
  },
  {
   "cell_type": "markdown",
   "metadata": {},
   "source": [
    "3. How do researchers typically determine the stopping criterion?"
   ]
  },
  {
   "cell_type": "markdown",
   "metadata": {},
   "source": [
    "One criterion is that the validation error has not decreased by more than some small amount $\\epsilon$ for some number of epochs. "
   ]
  },
  {
   "cell_type": "markdown",
   "metadata": {},
   "source": [
    "4. What important factor seems to differentiate cases when early stopping leads to big improvements in generalization?"
   ]
  },
  {
   "cell_type": "markdown",
   "metadata": {},
   "source": [
    "Early stopping is most effective when it halts training at a point just before the model starts to exhibit strong signs of overfitting."
   ]
  },
  {
   "cell_type": "markdown",
   "metadata": {},
   "source": [
    "5. Beyond generalization, describe another benefit of early stopping."
   ]
  },
  {
   "cell_type": "markdown",
   "metadata": {},
   "source": [
    "Save the time of training."
   ]
  }
 ],
 "metadata": {
  "language_info": {
   "name": "python"
  }
 },
 "nbformat": 4,
 "nbformat_minor": 2
}
